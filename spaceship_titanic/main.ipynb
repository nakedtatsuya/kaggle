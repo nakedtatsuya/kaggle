{
 "cells": [
  {
   "cell_type": "code",
   "execution_count": 106,
   "metadata": {},
   "outputs": [
    {
     "data": {
      "text/plain": [
       "True"
      ]
     },
     "execution_count": 106,
     "metadata": {},
     "output_type": "execute_result"
    }
   ],
   "source": [
    "import torch\n",
    "import torch.nn as nn\n",
    "\n",
    "import matplotlib.pyplot as plt\n",
    "import numpy as np\n",
    "import pandas as pd\n",
    "import seaborn as sns\n",
    "from sklearn.model_selection import train_test_split\n",
    "import os\n",
    "import sys\n",
    "import time\n",
    "import warnings\n",
    "from sklearn.preprocessing import OneHotEncoder, LabelEncoder, StandardScaler\n",
    "import matplotlib as mpl\n",
    "\n",
    "import tensorflow as tf\n",
    "from tensorflow import keras\n",
    "\n",
    "\n",
    "torch.cuda.is_available()"
   ]
  },
  {
   "cell_type": "code",
   "execution_count": 107,
   "metadata": {},
   "outputs": [
    {
     "name": "stdout",
     "output_type": "stream",
     "text": [
      "tensor([[0.3776, 0.4267, 0.9828],\n",
      "        [0.4513, 0.7101, 0.9351],\n",
      "        [0.1465, 0.6348, 0.0253],\n",
      "        [0.2928, 0.3162, 0.2430],\n",
      "        [0.7008, 0.7776, 0.3549]])\n"
     ]
    }
   ],
   "source": [
    "x = torch.rand(5, 3)\n",
    "print(x)"
   ]
  },
  {
   "cell_type": "code",
   "execution_count": 108,
   "metadata": {},
   "outputs": [
    {
     "name": "stdout",
     "output_type": "stream",
     "text": [
      "<class 'pandas.core.frame.DataFrame'>\n",
      "RangeIndex: 8693 entries, 0 to 8692\n",
      "Data columns (total 14 columns):\n",
      " #   Column        Non-Null Count  Dtype  \n",
      "---  ------        --------------  -----  \n",
      " 0   PassengerId   8693 non-null   object \n",
      " 1   HomePlanet    8492 non-null   object \n",
      " 2   CryoSleep     8476 non-null   object \n",
      " 3   Cabin         8494 non-null   object \n",
      " 4   Destination   8511 non-null   object \n",
      " 5   Age           8514 non-null   float64\n",
      " 6   VIP           8490 non-null   object \n",
      " 7   RoomService   8512 non-null   float64\n",
      " 8   FoodCourt     8510 non-null   float64\n",
      " 9   ShoppingMall  8485 non-null   float64\n",
      " 10  Spa           8510 non-null   float64\n",
      " 11  VRDeck        8505 non-null   float64\n",
      " 12  Name          8493 non-null   object \n",
      " 13  Transported   8693 non-null   bool   \n",
      "dtypes: bool(1), float64(6), object(7)\n",
      "memory usage: 891.5+ KB\n"
     ]
    }
   ],
   "source": [
    "\n",
    "import os.path\n",
    "\n",
    "\n",
    "train_all = pd.read_csv('./train.csv')\n",
    "test = pd.read_csv('./test.csv')\n",
    "\n",
    "NUMERIC_FEATURE_NAMES = [\n",
    "    \"Age\",\n",
    "    \"RoomService\",\n",
    "    \"FoodCourt\",\n",
    "    \"ShoppingMall\",\n",
    "    \"Spa\",\n",
    "    \"VRDeck\",\n",
    "]\n",
    "\n",
    "CATEGORICAL_FEATURE_NAMES = [\"HomePlanet\",\"Destination\"]\n",
    "\n",
    "\n",
    "train_all.info()"
   ]
  },
  {
   "cell_type": "code",
   "execution_count": 109,
   "metadata": {},
   "outputs": [],
   "source": [
    "test_data_file = \"test_data.csv\"\n",
    "test.to_csv(test_data_file, index=False, header=True)\n",
    "\n",
    "train_all[\"CryoSleep\"].replace([True,False], [\"1\", \"0\"], inplace=True)\n",
    "train_all[\"VIP\"].replace([True,False], [\"1\", \"0\"], inplace=True)\n",
    "test[\"CryoSleep\"].replace([True,False], [\"1\", \"0\"], inplace=True)\n",
    "test[\"VIP\"].replace([True,False], [\"1\", \"0\"], inplace=True)\n",
    "\n",
    "train_all[\"Relation\"] = train_all[\"PassengerId\"].str.split(\"_\").str[1].astype(float)\n",
    "test[\"Relation\"] = test[\"PassengerId\"].str.split(\"_\").str[1].astype(float)\n",
    "\n",
    "# train_all[\"Deck\"] = train_all[\"Cabin\"].str[0]\n",
    "# test[\"Deck\"] = test[\"Cabin\"].str[0]\n",
    "\n",
    "# train_all[\"Side\"] = train_all[\"Cabin\"].str[2]\n",
    "# test[\"Side\"] = test[\"Cabin\"].str[2]\n",
    "\n",
    "\n",
    "train_all.drop(['PassengerId', 'Cabin','Name'],axis =1 , inplace=True)\n",
    "test.drop(['PassengerId', 'Cabin','Name'],axis = 1 ,inplace=True)\n",
    "train_all.Transported.replace([True,False], [\"1\", \"0\"], inplace=True)"
   ]
  },
  {
   "cell_type": "code",
   "execution_count": 110,
   "metadata": {},
   "outputs": [],
   "source": [
    "\n",
    "train_all[\"Age\"].fillna(train_all[\"Age\"].mean(skipna=True), inplace=True)\n",
    "test[\"Age\"].fillna(test[\"Age\"].mean(skipna=True), inplace=True)\n",
    "\n",
    "train_all[\"RoomService\"].fillna(train_all[\"RoomService\"].mean(skipna=True), inplace=True)\n",
    "test[\"RoomService\"].fillna(test[\"RoomService\"].mean(skipna=True), inplace=True)\n",
    "\n",
    "train_all[\"FoodCourt\"].fillna(train_all[\"FoodCourt\"].mean(skipna=True), inplace=True)\n",
    "test[\"FoodCourt\"].fillna(test[\"FoodCourt\"].mean(skipna=True), inplace=True)\n",
    "\n",
    "train_all[\"ShoppingMall\"].fillna(train_all[\"ShoppingMall\"].mean(skipna=True), inplace=True)\n",
    "test[\"ShoppingMall\"].fillna(test[\"ShoppingMall\"].mean(skipna=True), inplace=True)\n",
    "\n",
    "train_all[\"Spa\"].fillna(train_all[\"Spa\"].mean(skipna=True), inplace=True)\n",
    "test[\"Spa\"].fillna(test[\"Spa\"].mean(skipna=True), inplace=True)\n",
    "\n",
    "train_all[\"VRDeck\"].fillna(train_all[\"VRDeck\"].mean(skipna=True), inplace=True)\n",
    "test[\"VRDeck\"].fillna(test[\"VRDeck\"].mean(skipna=True), inplace=True)\n",
    "\n",
    "#  [\"HomePlanet\",\"CryoSleep\",\"Destination\",\"VIP\"]\n",
    "\n",
    "train_all[\"HomePlanet\"].fillna('Kepler', inplace=True)\n",
    "test[\"HomePlanet\"].fillna('Kepler', inplace=True)\n",
    "\n",
    "train_all[\"CryoSleep\"].fillna('0', inplace=True)\n",
    "test[\"CryoSleep\"].fillna('0', inplace=True)\n",
    "\n",
    "train_all[\"VIP\"].fillna('0', inplace=True)\n",
    "test[\"VIP\"].fillna('0', inplace=True)\n",
    "\n",
    "train_all[\"Destination\"].fillna('TRAPPIST-1e', inplace=True)\n",
    "test[\"Destination\"].fillna('TRAPPIST-1e', inplace=True)\n",
    "\n",
    "train_all.dropna(inplace = True)\n",
    "# test.dropna(inplace = True)"
   ]
  },
  {
   "cell_type": "code",
   "execution_count": 111,
   "metadata": {},
   "outputs": [],
   "source": [
    "planets = train_all[\"HomePlanet\"].unique()\n",
    "indices = tf.range(len(planets), dtype=tf.int64)\n",
    "table_init = tf.lookup.KeyValueTensorInitializer(planets, indices)\n",
    "\n",
    "table = tf.lookup.StaticVocabularyTable(table_init, 1)"
   ]
  },
  {
   "cell_type": "code",
   "execution_count": 112,
   "metadata": {},
   "outputs": [
    {
     "data": {
      "text/plain": [
       "<tf.Tensor: shape=(8693, 5), dtype=float32, numpy=\n",
       "array([[1., 0., 0., 0., 0.],\n",
       "       [0., 1., 0., 0., 0.],\n",
       "       [1., 0., 0., 0., 0.],\n",
       "       ...,\n",
       "       [0., 1., 0., 0., 0.],\n",
       "       [1., 0., 0., 0., 0.],\n",
       "       [1., 0., 0., 0., 0.]], dtype=float32)>"
      ]
     },
     "execution_count": 112,
     "metadata": {},
     "output_type": "execute_result"
    }
   ],
   "source": [
    "aaa = tf.constant(train_all[\"HomePlanet\"].values)\n",
    "cat_indices = table.lookup(aaa)\n",
    "cat_one_hot = tf.one_hot(cat_indices, 5)\n",
    "\n",
    "cat_one_hot\n"
   ]
  },
  {
   "cell_type": "code",
   "execution_count": 113,
   "metadata": {},
   "outputs": [
    {
     "data": {
      "text/html": [
       "<div>\n",
       "<style scoped>\n",
       "    .dataframe tbody tr th:only-of-type {\n",
       "        vertical-align: middle;\n",
       "    }\n",
       "\n",
       "    .dataframe tbody tr th {\n",
       "        vertical-align: top;\n",
       "    }\n",
       "\n",
       "    .dataframe thead th {\n",
       "        text-align: right;\n",
       "    }\n",
       "</style>\n",
       "<table border=\"1\" class=\"dataframe\">\n",
       "  <thead>\n",
       "    <tr style=\"text-align: right;\">\n",
       "      <th></th>\n",
       "      <th>CryoSleep</th>\n",
       "      <th>Age</th>\n",
       "      <th>VIP</th>\n",
       "      <th>RoomService</th>\n",
       "      <th>FoodCourt</th>\n",
       "      <th>ShoppingMall</th>\n",
       "      <th>Spa</th>\n",
       "      <th>VRDeck</th>\n",
       "      <th>Transported</th>\n",
       "      <th>Relation</th>\n",
       "      <th>HomePlanet_Earth</th>\n",
       "      <th>HomePlanet_Europa</th>\n",
       "      <th>HomePlanet_Kepler</th>\n",
       "      <th>HomePlanet_Mars</th>\n",
       "      <th>Destination_55 Cancri e</th>\n",
       "      <th>Destination_PSO J318.5-22</th>\n",
       "      <th>Destination_TRAPPIST-1e</th>\n",
       "    </tr>\n",
       "  </thead>\n",
       "  <tbody>\n",
       "    <tr>\n",
       "      <th>0</th>\n",
       "      <td>0</td>\n",
       "      <td>39.0</td>\n",
       "      <td>0</td>\n",
       "      <td>0.0</td>\n",
       "      <td>0.0</td>\n",
       "      <td>0.0</td>\n",
       "      <td>0.0</td>\n",
       "      <td>0.0</td>\n",
       "      <td>0</td>\n",
       "      <td>1.0</td>\n",
       "      <td>0</td>\n",
       "      <td>1</td>\n",
       "      <td>0</td>\n",
       "      <td>0</td>\n",
       "      <td>0</td>\n",
       "      <td>0</td>\n",
       "      <td>1</td>\n",
       "    </tr>\n",
       "    <tr>\n",
       "      <th>1</th>\n",
       "      <td>0</td>\n",
       "      <td>24.0</td>\n",
       "      <td>0</td>\n",
       "      <td>109.0</td>\n",
       "      <td>9.0</td>\n",
       "      <td>25.0</td>\n",
       "      <td>549.0</td>\n",
       "      <td>44.0</td>\n",
       "      <td>1</td>\n",
       "      <td>1.0</td>\n",
       "      <td>1</td>\n",
       "      <td>0</td>\n",
       "      <td>0</td>\n",
       "      <td>0</td>\n",
       "      <td>0</td>\n",
       "      <td>0</td>\n",
       "      <td>1</td>\n",
       "    </tr>\n",
       "    <tr>\n",
       "      <th>2</th>\n",
       "      <td>0</td>\n",
       "      <td>58.0</td>\n",
       "      <td>1</td>\n",
       "      <td>43.0</td>\n",
       "      <td>3576.0</td>\n",
       "      <td>0.0</td>\n",
       "      <td>6715.0</td>\n",
       "      <td>49.0</td>\n",
       "      <td>0</td>\n",
       "      <td>1.0</td>\n",
       "      <td>0</td>\n",
       "      <td>1</td>\n",
       "      <td>0</td>\n",
       "      <td>0</td>\n",
       "      <td>0</td>\n",
       "      <td>0</td>\n",
       "      <td>1</td>\n",
       "    </tr>\n",
       "    <tr>\n",
       "      <th>3</th>\n",
       "      <td>0</td>\n",
       "      <td>33.0</td>\n",
       "      <td>0</td>\n",
       "      <td>0.0</td>\n",
       "      <td>1283.0</td>\n",
       "      <td>371.0</td>\n",
       "      <td>3329.0</td>\n",
       "      <td>193.0</td>\n",
       "      <td>0</td>\n",
       "      <td>2.0</td>\n",
       "      <td>0</td>\n",
       "      <td>1</td>\n",
       "      <td>0</td>\n",
       "      <td>0</td>\n",
       "      <td>0</td>\n",
       "      <td>0</td>\n",
       "      <td>1</td>\n",
       "    </tr>\n",
       "    <tr>\n",
       "      <th>4</th>\n",
       "      <td>0</td>\n",
       "      <td>16.0</td>\n",
       "      <td>0</td>\n",
       "      <td>303.0</td>\n",
       "      <td>70.0</td>\n",
       "      <td>151.0</td>\n",
       "      <td>565.0</td>\n",
       "      <td>2.0</td>\n",
       "      <td>1</td>\n",
       "      <td>1.0</td>\n",
       "      <td>1</td>\n",
       "      <td>0</td>\n",
       "      <td>0</td>\n",
       "      <td>0</td>\n",
       "      <td>0</td>\n",
       "      <td>0</td>\n",
       "      <td>1</td>\n",
       "    </tr>\n",
       "  </tbody>\n",
       "</table>\n",
       "</div>"
      ],
      "text/plain": [
       "  CryoSleep   Age VIP  RoomService  FoodCourt  ShoppingMall     Spa  VRDeck  \\\n",
       "0         0  39.0   0          0.0        0.0           0.0     0.0     0.0   \n",
       "1         0  24.0   0        109.0        9.0          25.0   549.0    44.0   \n",
       "2         0  58.0   1         43.0     3576.0           0.0  6715.0    49.0   \n",
       "3         0  33.0   0          0.0     1283.0         371.0  3329.0   193.0   \n",
       "4         0  16.0   0        303.0       70.0         151.0   565.0     2.0   \n",
       "\n",
       "  Transported  Relation  HomePlanet_Earth  HomePlanet_Europa  \\\n",
       "0           0       1.0                 0                  1   \n",
       "1           1       1.0                 1                  0   \n",
       "2           0       1.0                 0                  1   \n",
       "3           0       2.0                 0                  1   \n",
       "4           1       1.0                 1                  0   \n",
       "\n",
       "   HomePlanet_Kepler  HomePlanet_Mars  Destination_55 Cancri e  \\\n",
       "0                  0                0                        0   \n",
       "1                  0                0                        0   \n",
       "2                  0                0                        0   \n",
       "3                  0                0                        0   \n",
       "4                  0                0                        0   \n",
       "\n",
       "   Destination_PSO J318.5-22  Destination_TRAPPIST-1e  \n",
       "0                          0                        1  \n",
       "1                          0                        1  \n",
       "2                          0                        1  \n",
       "3                          0                        1  \n",
       "4                          0                        1  "
      ]
     },
     "execution_count": 113,
     "metadata": {},
     "output_type": "execute_result"
    }
   ],
   "source": [
    "\n",
    "train_all = pd.get_dummies(train_all, columns=[\"HomePlanet\",\"Destination\"])\n",
    "test = pd.get_dummies(test, columns=[\"HomePlanet\",\"Destination\"])\n",
    "\n",
    "# for planet in planets:\n",
    "#   train_all[planet].loc[train_all[\"HomePlanet\"] == planet] = 1\n",
    "#   train_all[planet].loc[train_all[\"HomePlanet\"] != planet] = 0\n",
    "\n",
    "train_all.head()"
   ]
  },
  {
   "cell_type": "code",
   "execution_count": 114,
   "metadata": {},
   "outputs": [],
   "source": [
    "# CSV_HEADER = [\n",
    "#     \"HomePlanet\",\n",
    "#     \"Destination\",\n",
    "#     \"Age\",\n",
    "#     \"RoomService\",\n",
    "#     \"FoodCourt\",\n",
    "#     \"ShoppingMall\",\n",
    "#     \"Spa\",\n",
    "#     \"VRDeck\",\n",
    "#     \"Transported\",\n",
    "#     ]\n",
    "\n",
    "train_data_file = \"train_data.csv\"\n"
   ]
  },
  {
   "cell_type": "code",
   "execution_count": 115,
   "metadata": {},
   "outputs": [],
   "source": [
    "# def get_dataset_from_csv(csv_file_path, shuffle=False, batch_size=128):\n",
    "#     dataset = tf.data.experimental.make_csv_dataset(\n",
    "#         csv_file_path,\n",
    "#         batch_size=batch_size,\n",
    "#         column_names=CSV_HEADER,\n",
    "#         label_name=\"Transported\",\n",
    "#         num_epochs=1,\n",
    "#         shuffle=shuffle\n",
    "#     )\n",
    "#     return dataset.cache()"
   ]
  },
  {
   "cell_type": "code",
   "execution_count": 116,
   "metadata": {},
   "outputs": [
    {
     "name": "stdout",
     "output_type": "stream",
     "text": [
      "<class 'pandas.core.frame.DataFrame'>\n",
      "RangeIndex: 8257 entries, 0 to 8256\n",
      "Data columns (total 16 columns):\n",
      " #   Column  Non-Null Count  Dtype  \n",
      "---  ------  --------------  -----  \n",
      " 0   0       8257 non-null   int64  \n",
      " 1   31.0    8257 non-null   float64\n",
      " 2   0.1     8257 non-null   int64  \n",
      " 3   0.0     8257 non-null   float64\n",
      " 4   1489.0  8257 non-null   float64\n",
      " 5   68.0    8257 non-null   float64\n",
      " 6   6.0     8257 non-null   float64\n",
      " 7   0.0.1   8257 non-null   float64\n",
      " 8   2.0     8257 non-null   float64\n",
      " 9   0.2     8257 non-null   int64  \n",
      " 10  0.3     8257 non-null   int64  \n",
      " 11  1       8257 non-null   int64  \n",
      " 12  0.4     8257 non-null   int64  \n",
      " 13  0.5     8257 non-null   int64  \n",
      " 14  0.6     8257 non-null   int64  \n",
      " 15  1.1     8257 non-null   int64  \n",
      "dtypes: float64(7), int64(9)\n",
      "memory usage: 1.0 MB\n"
     ]
    }
   ],
   "source": [
    "# train_all = pd.read_csv('./train_data.csv')\n",
    "# test = pd.read_csv('./test_data.csv')\n",
    "\n",
    "train, valid = train_test_split(train_all, test_size=0.05, random_state=42, shuffle=True)\n",
    "\n",
    "train_X, train_y = train.drop('Transported', axis=1), train['Transported']\n",
    "valid_X, valid_y = valid.drop('Transported', axis=1), valid['Transported']\n",
    "\n",
    "train_X.to_csv(\"./train_x.csv\", index=False, header=False)\n",
    "train_y.to_csv(\"./train_y.csv\", index=False, header=False)\n",
    "train_X.to_csv(\"./valid_x.csv\", index=False, header=False)\n",
    "train_y.to_csv(\"./valid_y.csv\", index=False, header=False)\n",
    "\n",
    "test.to_csv(\"./test_v.csv\", index=False, header=False)\n",
    "\n",
    "\n",
    "train_X, train_y = pd.read_csv('./train_x.csv'), pd.read_csv('./train_y.csv')\n",
    "valid_X, valid_y = pd.read_csv('./valid_x.csv'), pd.read_csv('./valid_y.csv')\n",
    "\n",
    "test_v = pd.read_csv('./test_v.csv')\n",
    "\n",
    "\n",
    "\n",
    "train_X.info()\n"
   ]
  },
  {
   "cell_type": "code",
   "execution_count": 117,
   "metadata": {},
   "outputs": [
    {
     "name": "stdout",
     "output_type": "stream",
     "text": [
      "<class 'pandas.core.frame.DataFrame'>\n",
      "RangeIndex: 4276 entries, 0 to 4275\n",
      "Data columns (total 16 columns):\n",
      " #   Column  Non-Null Count  Dtype  \n",
      "---  ------  --------------  -----  \n",
      " 0   1       4276 non-null   int64  \n",
      " 1   27.0    4276 non-null   float64\n",
      " 2   0       4276 non-null   int64  \n",
      " 3   0.0     4276 non-null   float64\n",
      " 4   0.0.1   4276 non-null   float64\n",
      " 5   0.0.2   4276 non-null   float64\n",
      " 6   0.0.3   4276 non-null   float64\n",
      " 7   0.0.4   4276 non-null   float64\n",
      " 8   1.0     4276 non-null   float64\n",
      " 9   1.1     4276 non-null   int64  \n",
      " 10  0.1     4276 non-null   int64  \n",
      " 11  0.2     4276 non-null   int64  \n",
      " 12  0.3     4276 non-null   int64  \n",
      " 13  0.4     4276 non-null   int64  \n",
      " 14  0.5     4276 non-null   int64  \n",
      " 15  1.2     4276 non-null   int64  \n",
      "dtypes: float64(7), int64(9)\n",
      "memory usage: 534.6 KB\n"
     ]
    }
   ],
   "source": [
    "test_v.info()"
   ]
  },
  {
   "cell_type": "code",
   "execution_count": 118,
   "metadata": {},
   "outputs": [],
   "source": [
    "\n",
    "# train_X[\"relation\"] = train_X[\"PassengerId\"].str.split(\"_\").str[1].astype(int)\n",
    "# train_X[\"relation\"]"
   ]
  },
  {
   "cell_type": "code",
   "execution_count": 119,
   "metadata": {},
   "outputs": [],
   "source": [
    "# train_X[\"Deck\"] = train_X[\"Cabin\"].str[0]\n",
    "\n",
    "# train_X[\"Side\"] = train_X[\"Cabin\"].str[2]\n",
    "\n",
    "# train_X.drop([\"Cabin\", \"Name\"], axis=1, inplace=True)\n",
    "\n",
    "# cat_encoder = OneHotEncoder()\n",
    "# housing_cat_encoded  = cat_encoder.fit_transform(train_X[[\"Deck\"]])\n",
    "# housing_cat_encoded.toarray()\n",
    "# train_X[\"Deck\"] = housing_cat_encoded.toarray()\n",
    "\n",
    "# cat_encoder = OneHotEncoder()\n",
    "# housing_cat_encoded  = cat_encoder.fit_transform(train_X[[\"Side\"]])\n",
    "# housing_cat_encoded.toarray()\n",
    "# train_X[\"Side\"] = housing_cat_encoded.toarray()\n",
    "\n",
    "# train_X[\"Deck\"]\n",
    "# train_X[\"Side\"]"
   ]
  },
  {
   "cell_type": "code",
   "execution_count": 120,
   "metadata": {},
   "outputs": [
    {
     "data": {
      "text/plain": [
       "array([[ 1.      , 27.      ,  0.      , ...,  0.      ,  0.      ,\n",
       "         1.      ],\n",
       "       [ 0.      , 19.      ,  0.      , ...,  0.      ,  0.      ,\n",
       "         1.      ],\n",
       "       [ 1.      , 31.      ,  0.      , ...,  1.      ,  0.      ,\n",
       "         0.      ],\n",
       "       ...,\n",
       "       [ 1.      , 28.658146,  0.      , ...,  1.      ,  0.      ,\n",
       "         0.      ],\n",
       "       [ 0.      , 28.658146,  0.      , ...,  0.      ,  0.      ,\n",
       "         1.      ],\n",
       "       [ 1.      , 43.      ,  0.      , ...,  0.      ,  1.      ,\n",
       "         0.      ]], dtype=float32)"
      ]
     },
     "execution_count": 120,
     "metadata": {},
     "output_type": "execute_result"
    }
   ],
   "source": [
    "test = np.asarray(test).astype('float32')\n",
    "test"
   ]
  },
  {
   "cell_type": "code",
   "execution_count": 127,
   "metadata": {},
   "outputs": [],
   "source": [
    "keras.backend.clear_session()\n",
    "np.random.seed(42)\n",
    "tf.random.set_seed(42)\n",
    "model = keras.Sequential([\n",
    "    keras.layers.Dense(16, activation='elu', kernel_initializer='he_normal'),\n",
    "    keras.layers.BatchNormalization(),\n",
    "    keras.layers.Dense(32, activation='elu'),\n",
    "    keras.layers.Dense(64, activation='elu'),\n",
    "    keras.layers.Dense(128, activation='elu'),\n",
    "    keras.layers.Dropout(0.05),\n",
    "    keras.layers.Dense(1, activation='sigmoid')\n",
    "])\n",
    "\n",
    "model.compile(optimizer=keras.optimizers.Adam(learning_rate=0.0001), loss='binary_crossentropy', metrics=['binary_accuracy'])"
   ]
  },
  {
   "cell_type": "code",
   "execution_count": 128,
   "metadata": {},
   "outputs": [
    {
     "name": "stdout",
     "output_type": "stream",
     "text": [
      "Epoch 1/20\n",
      "259/259 [==============================] - 3s 9ms/step - loss: 0.5836 - binary_accuracy: 0.7064 - val_loss: 0.5442 - val_binary_accuracy: 0.7540\n",
      "Epoch 2/20\n",
      "259/259 [==============================] - 3s 10ms/step - loss: 0.5380 - binary_accuracy: 0.7525 - val_loss: 0.5284 - val_binary_accuracy: 0.7652\n",
      "Epoch 3/20\n",
      "259/259 [==============================] - 2s 8ms/step - loss: 0.5303 - binary_accuracy: 0.7598 - val_loss: 0.5235 - val_binary_accuracy: 0.7705\n",
      "Epoch 4/20\n",
      "259/259 [==============================] - 2s 7ms/step - loss: 0.5218 - binary_accuracy: 0.7618 - val_loss: 0.5181 - val_binary_accuracy: 0.7738\n",
      "Epoch 5/20\n",
      "259/259 [==============================] - 2s 7ms/step - loss: 0.5135 - binary_accuracy: 0.7661 - val_loss: 0.5143 - val_binary_accuracy: 0.7750\n",
      "Epoch 6/20\n",
      "259/259 [==============================] - 2s 7ms/step - loss: 0.5110 - binary_accuracy: 0.7701 - val_loss: 0.5106 - val_binary_accuracy: 0.7798\n",
      "Epoch 7/20\n",
      "259/259 [==============================] - 2s 7ms/step - loss: 0.5102 - binary_accuracy: 0.7718 - val_loss: 0.5066 - val_binary_accuracy: 0.7769\n",
      "Epoch 8/20\n",
      "259/259 [==============================] - 2s 7ms/step - loss: 0.5042 - binary_accuracy: 0.7745 - val_loss: 0.5052 - val_binary_accuracy: 0.7772\n",
      "Epoch 9/20\n",
      "259/259 [==============================] - 2s 7ms/step - loss: 0.5057 - binary_accuracy: 0.7741 - val_loss: 0.4981 - val_binary_accuracy: 0.7826\n",
      "Epoch 10/20\n",
      "259/259 [==============================] - 2s 7ms/step - loss: 0.5014 - binary_accuracy: 0.7751 - val_loss: 0.5051 - val_binary_accuracy: 0.7801\n",
      "Epoch 11/20\n",
      "259/259 [==============================] - 3s 11ms/step - loss: 0.5028 - binary_accuracy: 0.7762 - val_loss: 0.5006 - val_binary_accuracy: 0.7791\n",
      "Epoch 12/20\n",
      "259/259 [==============================] - 2s 8ms/step - loss: 0.5022 - binary_accuracy: 0.7774 - val_loss: 0.5037 - val_binary_accuracy: 0.7791\n",
      "Epoch 13/20\n",
      "259/259 [==============================] - 2s 7ms/step - loss: 0.5005 - binary_accuracy: 0.7740 - val_loss: 0.5028 - val_binary_accuracy: 0.7790\n",
      "Epoch 14/20\n",
      "259/259 [==============================] - 2s 7ms/step - loss: 0.5030 - binary_accuracy: 0.7793 - val_loss: 0.4942 - val_binary_accuracy: 0.7803\n",
      "Epoch 15/20\n",
      "259/259 [==============================] - 2s 6ms/step - loss: 0.4995 - binary_accuracy: 0.7782 - val_loss: 0.4996 - val_binary_accuracy: 0.7786\n",
      "Epoch 16/20\n",
      "259/259 [==============================] - 2s 7ms/step - loss: 0.4999 - binary_accuracy: 0.7764 - val_loss: 0.4956 - val_binary_accuracy: 0.7804\n",
      "Epoch 17/20\n",
      "259/259 [==============================] - 2s 7ms/step - loss: 0.4977 - binary_accuracy: 0.7815 - val_loss: 0.5022 - val_binary_accuracy: 0.7809\n",
      "Epoch 18/20\n",
      "259/259 [==============================] - 2s 7ms/step - loss: 0.5017 - binary_accuracy: 0.7776 - val_loss: 0.5011 - val_binary_accuracy: 0.7807\n",
      "Epoch 19/20\n",
      "259/259 [==============================] - 2s 7ms/step - loss: 0.4992 - binary_accuracy: 0.7750 - val_loss: 0.4971 - val_binary_accuracy: 0.7805\n",
      "Epoch 20/20\n",
      "259/259 [==============================] - 2s 7ms/step - loss: 0.4997 - binary_accuracy: 0.7732 - val_loss: 0.4944 - val_binary_accuracy: 0.7803\n"
     ]
    },
    {
     "data": {
      "text/plain": [
       "<keras.callbacks.History at 0x7f7800709d50>"
      ]
     },
     "execution_count": 128,
     "metadata": {},
     "output_type": "execute_result"
    }
   ],
   "source": [
    "model.fit(train_X, train_y, epochs=20, validation_data=(valid_X, valid_y))"
   ]
  },
  {
   "cell_type": "code",
   "execution_count": 123,
   "metadata": {},
   "outputs": [
    {
     "data": {
      "text/plain": [
       "array([[0.63855064],\n",
       "       [0.06760568],\n",
       "       [0.9801707 ],\n",
       "       ...,\n",
       "       [0.9476987 ],\n",
       "       [0.8592263 ],\n",
       "       [0.6098144 ]], dtype=float32)"
      ]
     },
     "execution_count": 123,
     "metadata": {},
     "output_type": "execute_result"
    }
   ],
   "source": [
    "y_pred = model.predict(test)\n",
    "y_pred"
   ]
  },
  {
   "cell_type": "code",
   "execution_count": 124,
   "metadata": {},
   "outputs": [
    {
     "name": "stderr",
     "output_type": "stream",
     "text": [
      "/usr/local/lib/python3.7/dist-packages/pandas/core/indexing.py:1732: SettingWithCopyWarning: \n",
      "A value is trying to be set on a copy of a slice from a DataFrame\n",
      "\n",
      "See the caveats in the documentation: https://pandas.pydata.org/pandas-docs/stable/user_guide/indexing.html#returning-a-view-versus-a-copy\n",
      "  self._setitem_single_block(indexer, value, name)\n"
     ]
    }
   ],
   "source": [
    "prediction = pd.DataFrame(y_pred, columns=['Transported'])\n",
    "\n",
    "prediction[\"PassengerId\"] = pd.read_csv('./test_data.csv')[\"PassengerId\"]\n",
    "\n",
    "prediction[\"Transported\"].loc[prediction['Transported'] > 0.5] = True\n",
    "prediction[\"Transported\"].loc[prediction['Transported'] <= 0.5] = False\n",
    "\n",
    "prediction.to_csv(\"./submit.csv\", index=False, header=True)\n",
    "\n",
    "\n",
    "# .to_csv('submit.csv')\n",
    "# prediction"
   ]
  }
 ],
 "metadata": {
  "kernelspec": {
   "display_name": "Python 3.7.13 64-bit",
   "language": "python",
   "name": "python3"
  },
  "language_info": {
   "codemirror_mode": {
    "name": "ipython",
    "version": 3
   },
   "file_extension": ".py",
   "mimetype": "text/x-python",
   "name": "python",
   "nbconvert_exporter": "python",
   "pygments_lexer": "ipython3",
   "version": "3.7.13"
  },
  "orig_nbformat": 4,
  "vscode": {
   "interpreter": {
    "hash": "31f2aee4e71d21fbe5cf8b01ff0e069b9275f58929596ceb00d14d90e3e16cd6"
   }
  }
 },
 "nbformat": 4,
 "nbformat_minor": 2
}
